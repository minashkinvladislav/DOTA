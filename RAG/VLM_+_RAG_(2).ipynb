{
  "cells": [
    {
      "cell_type": "markdown",
      "metadata": {
        "id": "l6ZmNmJqnjMZ"
      },
      "source": [
        "# VLM"
      ]
    },
    {
      "cell_type": "markdown",
      "metadata": {
        "id": "xikWAf4SnpeQ"
      },
      "source": [
        "# RAG"
      ]
    },
    {
      "cell_type": "markdown",
      "metadata": {
        "id": "pSHrEqe5HMS3"
      },
      "source": [
        "- Храним данные в Chroma, collection_name=\"dota_knowledge_1.3\"\n",
        "- На данный момент там небольшая справка про каждого из героев доты с wikifandom, данные повторяются"
      ]
    },
    {
      "cell_type": "markdown",
      "source": [
        "## Собираем данные"
      ],
      "metadata": {
        "id": "-OzmRSV9MLfZ"
      }
    },
    {
      "cell_type": "markdown",
      "metadata": {
        "id": "RhUQ7Tpw3rwp"
      },
      "source": [
        "### Качаем библиотеки"
      ]
    },
    {
      "cell_type": "code",
      "execution_count": null,
      "metadata": {
        "id": "47fB5PXphk2Z"
      },
      "outputs": [],
      "source": [
        "!pip install langchain_chroma langchain_community"
      ]
    },
    {
      "cell_type": "code",
      "source": [
        "import warnings\n",
        "warnings.filterwarnings(\"ignore\")"
      ],
      "metadata": {
        "id": "HzE1ZB19Vkv8"
      },
      "execution_count": null,
      "outputs": []
    },
    {
      "cell_type": "code",
      "execution_count": null,
      "metadata": {
        "id": "qUnqv7MGn78g"
      },
      "outputs": [],
      "source": [
        "import nltk\n",
        "import json\n",
        "\n",
        "from pathlib import Path\n",
        "from pprint import pprint\n",
        "\n",
        "import subprocess\n",
        "import os\n",
        "\n",
        "from langchain_community.document_loaders import JSONLoader\n",
        "from langchain_community.document_loaders import PyPDFLoader\n",
        "from langchain_community.document_loaders import BSHTMLLoader\n",
        "from langchain_community.document_loaders.csv_loader import CSVLoader\n",
        "from langchain_community.document_loaders import UnstructuredHTMLLoader\n",
        "\n",
        "from langchain_chroma import Chroma\n",
        "from langchain_community.document_loaders import TextLoader\n",
        "from langchain_community.embeddings.sentence_transformer import (\n",
        "    SentenceTransformerEmbeddings,\n",
        ")\n",
        "from langchain_text_splitters import CharacterTextSplitter\n",
        "import chromadb\n",
        "from sentence_transformers import SentenceTransformer\n",
        "from langchain.document_loaders import BSHTMLLoader\n",
        "from langchain.text_splitter import CharacterTextSplitter\n",
        "\n",
        "from langchain.text_splitter import RecursiveCharacterTextSplitter"
      ]
    },
    {
      "cell_type": "markdown",
      "metadata": {
        "id": "FS5FzT8MLqjb"
      },
      "source": [
        "### Дообучение энкодера под домен -- coming soon"
      ]
    },
    {
      "cell_type": "code",
      "execution_count": null,
      "metadata": {
        "id": "_9DpTrNULwJN"
      },
      "outputs": [],
      "source": [
        "import torch\n",
        "import torch.nn.functional as F\n",
        "from sentence_transformers import SentenceTransformer, losses\n",
        "from sentence_transformers.readers import InputExample\n",
        "from torch.utils.data import DataLoader\n",
        "\n",
        "\n",
        "train_examples = #?\n",
        "\n",
        "train_dataloader = DataLoader(train_examples, shuffle=True, batch_size=16)\n",
        "\n",
        "model = SentenceTransformer('all-MiniLM-L6-v2')\n",
        "\n",
        "train_loss = losses.MultipleNegativesRankingLoss(model)\n",
        "\n",
        "model.fit(\n",
        "    train_objectives=[(train_dataloader, train_loss)],\n",
        "    epochs=3,\n",
        "    warmup_steps=100,\n",
        "    output_path='./dota2-encoder'\n",
        ")"
      ]
    },
    {
      "cell_type": "markdown",
      "metadata": {
        "id": "-Uu-QQGo0LGv"
      },
      "source": [
        "### Парсим данные"
      ]
    },
    {
      "cell_type": "code",
      "execution_count": null,
      "metadata": {
        "id": "Bq3dOolupydX"
      },
      "outputs": [],
      "source": [
        "os.makedirs('dota_wget', exist_ok=True)"
      ]
    },
    {
      "cell_type": "code",
      "execution_count": null,
      "metadata": {
        "id": "vKZOvgGAqJNo"
      },
      "outputs": [],
      "source": [
        "dota_heroes = dota_heroes = [\n",
        "    # Strength Heroes\n",
        "    \"Abaddon\",\n",
        "    \"Alchemist\",\n",
        "    \"Axe\",\n",
        "    \"Bristleback\",\n",
        "    \"Centaur_Warrunner\",\n",
        "    \"Chaos_Knight\",\n",
        "    \"Clockwerk\",\n",
        "    \"Dawnbreaker\",\n",
        "    \"Doom\",\n",
        "    \"Dragon_Knight\",\n",
        "    \"Earth_Spirit\",\n",
        "    \"Earthshaker\",\n",
        "    \"Elder_Titan\",\n",
        "    \"Huskar\",\n",
        "    \"Io\",\n",
        "    \"Kunkka\",\n",
        "    \"Legion_Commander\",\n",
        "    \"Lifestealer\",\n",
        "    \"Lycan\",\n",
        "    \"Magnus\",\n",
        "    \"Marci\",\n",
        "    \"Mars\",\n",
        "    \"Night_Stalker\",\n",
        "    \"Ogre_Magi\",\n",
        "    \"Omniknight\",\n",
        "    \"Phoenix\",\n",
        "    \"Pudge\",\n",
        "    \"Sand_King\",\n",
        "    \"Slardar\",\n",
        "    \"Snapfire\",\n",
        "    \"Sven\",\n",
        "    \"Tidehunter\",\n",
        "    \"Timbersaw\",\n",
        "    \"Tiny\",\n",
        "    \"Treant_Protector\",\n",
        "    \"Tusk\",\n",
        "    \"Underlord\",\n",
        "    \"Undying\",\n",
        "    \"Wraith_King\",\n",
        "\n",
        "    # Agility Heroes\n",
        "    \"Anti-Mage\",\n",
        "    \"Arc_Warden\",\n",
        "    \"Bloodseeker\",\n",
        "    \"Bounty_Hunter\",\n",
        "    \"Clinkz\",\n",
        "    \"Drow_Ranger\",\n",
        "    \"Ember_Spirit\",\n",
        "    \"Faceless_Void\",\n",
        "    \"Gyrocopter\",\n",
        "    \"Hoodwink\",\n",
        "    \"Juggernaut\",\n",
        "    \"Lone_Druid\",\n",
        "    \"Luna\",\n",
        "    \"Medusa\",\n",
        "    \"Meepo\",\n",
        "    \"Mirana\",\n",
        "    \"Monkey_King\",\n",
        "    \"Morphling\",\n",
        "    \"Naga_Siren\",\n",
        "    \"Nyx_Assassin\",\n",
        "    \"Pangolier\",\n",
        "    \"Phantom_Assassin\",\n",
        "    \"Phantom_Lancer\",\n",
        "    \"Razor\",\n",
        "    \"Riki\",\n",
        "    \"Shadow_Fiend\",\n",
        "    \"Slark\",\n",
        "    \"Sniper\",\n",
        "    \"Spectre\",\n",
        "    \"Templar_Assassin\",\n",
        "    \"Terrorblade\",\n",
        "    \"Troll_Warlord\",\n",
        "    \"Ursa\",\n",
        "    \"Vengeful_Spirit\",\n",
        "    \"Venomancer\",\n",
        "    \"Viper\",\n",
        "    \"Weaver\",\n",
        "\n",
        "    # Intelligence Heroes\n",
        "    \"Ancient_Apparition\",\n",
        "    \"Crystal_Maiden\",\n",
        "    \"Dark_Seer\",\n",
        "    \"Dark_Willow\",\n",
        "    \"Death_Prophet\",\n",
        "    \"Disruptor\",\n",
        "    \"Enchantress\",\n",
        "    \"Enigma\",\n",
        "    \"Grimstroke\",\n",
        "    \"Invoker\",\n",
        "    \"Jakiro\",\n",
        "    \"Keeper_of_the_Light\",\n",
        "    \"Leshrac\",\n",
        "    \"Lich\",\n",
        "    \"Lina\",\n",
        "    \"Lion\",\n",
        "    \"Nature's_Prophet\",\n",
        "    \"Necrophos\",\n",
        "    \"Oracle\",\n",
        "    \"Outworld_Destroyer\",\n",
        "    \"Puck\",\n",
        "    \"Pugna\",\n",
        "    \"Queen_of_Pain\",\n",
        "    \"Rubick\",\n",
        "    \"Shadow_Demon\",\n",
        "    \"Shadow_Shaman\",\n",
        "    \"Silencer\",\n",
        "    \"Skywrath_Mage\",\n",
        "    \"Storm_Spirit\",\n",
        "    \"Techies\",\n",
        "    \"Tinker\",\n",
        "    \"Visage\",\n",
        "    \"Void_Spirit\",\n",
        "    \"Warlock\",\n",
        "    \"Windranger\",\n",
        "    \"Winter_Wyvern\",\n",
        "    \"Witch_Doctor\",\n",
        "    \"Zeus\",\n",
        "\n",
        "    # Universal Heroes\n",
        "    \"Muerta\"\n",
        "]"
      ]
    },
    {
      "cell_type": "code",
      "execution_count": null,
      "metadata": {
        "id": "jPSTAtbrnWei"
      },
      "outputs": [],
      "source": [
        "def download_with_wget(hero, item=''):\n",
        "  commands = [\n",
        "        'wget', f'https://dota2.fandom.com/wiki/{hero}/{item}',\n",
        "        '-O', f'dota_wget/{hero}{item}.html',\n",
        "        '--user-agent=Mozilla/5.0 (Windows NT 10.0; Win64; x64) AppleWebKit/537.36'\n",
        "    ]\n",
        "\n",
        "  try:\n",
        "    result = subprocess.run(commands, capture_output=True, text=True)\n",
        "    if result.returncode != 0:\n",
        "        print(f'https://dota2.fandom.com/wiki/{hero}/{item} has an error {result.returncode}')\n",
        "  except:\n",
        "    ..."
      ]
    },
    {
      "cell_type": "code",
      "source": [
        "traits = ['Guide', 'Equipment', 'Talents']"
      ],
      "metadata": {
        "id": "B1lp1DbhGu8Q"
      },
      "execution_count": null,
      "outputs": []
    },
    {
      "cell_type": "code",
      "execution_count": null,
      "metadata": {
        "id": "vPo8o33980Lc"
      },
      "outputs": [],
      "source": [
        "import time\n",
        "\n",
        "for hero in dota_heroes:\n",
        "  for item in traits:\n",
        "    download_with_wget(hero, item)\n",
        "    time.sleep(4.3)"
      ]
    },
    {
      "cell_type": "code",
      "source": [
        "def merge_text_files(file_paths, output_file):\n",
        "    merged_content = \"\"\n",
        "\n",
        "    for i, file_path in enumerate(file_paths):\n",
        "        try:\n",
        "            with open(file_path, 'r', encoding='utf-8') as f:\n",
        "                content = f.read()\n",
        "                merged_content += content\n",
        "                print(f\"Добавлен: {file_path}\")\n",
        "\n",
        "        except Exception as e:\n",
        "            print(f\"Ошибка чтения {file_path}: {e}\")\n",
        "\n",
        "    with open(output_file, 'w', encoding='utf-8') as f:\n",
        "        f.write(merged_content)\n",
        "\n",
        "    return output_file\n",
        "\n",
        "for hero in dota_heroes:\n",
        "    merge_text_files([f'/content/dota_wget/{hero}.html', f'/content/dota_wget/{hero}Guide.html',\n",
        "                     f'/content/dota_wget/{hero}Equipment.html', f'/content/dota_wget/{hero}Talents.html'],\n",
        "                     f'/content/dota_wget/{hero}Total.html')"
      ],
      "metadata": {
        "id": "jCApPLBdxIxK"
      },
      "execution_count": null,
      "outputs": []
    },
    {
      "cell_type": "markdown",
      "source": [
        "## Делаем RAG"
      ],
      "metadata": {
        "id": "o1ydx11PspD8"
      }
    },
    {
      "cell_type": "markdown",
      "metadata": {
        "id": "QLxOCDzV0QT7"
      },
      "source": [
        "### Кодируем их и грузим в Chroma"
      ]
    },
    {
      "cell_type": "code",
      "execution_count": null,
      "metadata": {
        "id": "t4tR9BpdbafS"
      },
      "outputs": [],
      "source": [
        "class DotaVectorStore:\n",
        "    def __init__(self, model_name=\"all-MiniLM-L6-v2\"):\n",
        "        self.client = chromadb.PersistentClient(path=\"./dota_db_1.3\")\n",
        "        self.embedding_model = SentenceTransformer(model_name)\n",
        "        self.doc_counter = 0\n",
        "        self.collection = self.client.get_or_create_collection(\n",
        "            name=\"dota2_knowledge_1.3\",\n",
        "            metadata={\"description\": \"Dota 2 game knowledge base\"}\n",
        "        )\n",
        "    def _embed_documents(self, texts):\n",
        "        return self.embedding_model.encode(texts).tolist()\n",
        "\n",
        "    def _embed_query(self, text):\n",
        "        return self.embedding_model.encode([text]).tolist()[0]\n",
        "\n",
        "    def add_document(self, document_html, metadatas=None):\n",
        "        loader = BSHTMLLoader(document_html)\n",
        "        data = loader.load()\n",
        "        text_splitter = CharacterTextSplitter(chunk_size=700, chunk_overlap=100)\n",
        "        docs = text_splitter.split_documents(data)\n",
        "        texts = [doc.page_content for doc in docs]\n",
        "        embeddings = self._embed_documents(texts)\n",
        "        start_id = self.doc_counter\n",
        "        ids = [f\"doc_{start_id + i}\" for i in range(len(texts))]\n",
        "        self.doc_counter += len(texts)\n",
        "        self.collection.add(\n",
        "            documents=texts,\n",
        "            embeddings=embeddings,\n",
        "            metadatas=metadatas,\n",
        "            ids=ids\n",
        "        )\n",
        "\n",
        "        print(f\"Добавлено {len(texts)} документов\")\n",
        "\n",
        "    def search(self, query, n_results=5):\n",
        "        query_embedding = self._embed_query(query)\n",
        "        results = self.collection.query(\n",
        "            query_embeddings=[query_embedding],\n",
        "            n_results=n_results\n",
        "        )\n",
        "\n",
        "        return results"
      ]
    },
    {
      "cell_type": "code",
      "source": [
        "rag_store = DotaVectorStore()"
      ],
      "metadata": {
        "id": "BYE7rZ6RSkYM"
      },
      "execution_count": null,
      "outputs": []
    },
    {
      "cell_type": "code",
      "source": [
        "for hero in dota_heroes:\n",
        "    rag_store.add_document(f'/content/dota_wget/{hero}Total.html')"
      ],
      "metadata": {
        "id": "TBOIYSFTUE-j"
      },
      "execution_count": null,
      "outputs": []
    },
    {
      "cell_type": "markdown",
      "source": [
        "### Проверим как работает RAG"
      ],
      "metadata": {
        "id": "2ynIh397MVEz"
      }
    },
    {
      "cell_type": "code",
      "source": [
        "def list_all_documents(collection_name=\"dota2_knowledge_1.3\", persist_directory=\"./dota_db_1.3\"):\n",
        "    import chromadb\n",
        "\n",
        "    client = chromadb.PersistentClient(path=persist_directory)\n",
        "    collection = client.get_collection(collection_name)\n",
        "\n",
        "    results = collection.get()\n",
        "\n",
        "    print(f\"📚 Коллекция: {collection_name}\")\n",
        "    print(f\"📄 Всего документов: {len(results['ids'])}\")\n",
        "    print(\"=\" * 60)\n",
        "\n",
        "    for i, (doc_id, document, metadata) in enumerate(zip(\n",
        "        results['ids'],\n",
        "        results['documents'],\n",
        "        results['metadatas']\n",
        "    )):\n",
        "        print(f\"\\n{i+1}. 🆔 ID: {doc_id}\")\n",
        "        print(f\"   🏷️  Метаданные: {metadata}\")\n",
        "        print(f\"   📝 Превью: {document[:100]}...\")\n",
        "        print(\"-\" * 50)\n",
        "\n",
        "    return results\n",
        "\n",
        "# documents_info = list_all_documents()"
      ],
      "metadata": {
        "id": "cE9-18wUchAc"
      },
      "execution_count": null,
      "outputs": []
    },
    {
      "cell_type": "code",
      "source": [
        "rag_store.search('Who is Alchemist', 3)"
      ],
      "metadata": {
        "id": "NvDvPF3HgTvS"
      },
      "execution_count": null,
      "outputs": []
    },
    {
      "cell_type": "code",
      "source": [
        "from vlm_functions import get_hero_name_from_image, recognize_heroes, restart_training\n",
        "\n",
        "hero_name = get_hero_name_from_image(\"./test_pic/sniper.png\")\n",
        "print(f\"Найденный герой: {hero_name}\")\n",
        "\n",
        "if hero_name != \"Unknown\":\n",
        "    rag_results = rag_store.search(f\"Who is {hero_name}? What are their abilities?\", n_results=3)\n",
        "\n",
        "    for doc in rag_results['documents'][0]:\n",
        "        print(doc)"
      ],
      "metadata": {
        "colab": {
          "base_uri": "https://localhost:8080/"
        },
        "id": "vZlXnswpY00n",
        "outputId": "99075648-1cc8-4aac-c881-5faf4e5b04f7"
      },
      "execution_count": null,
      "outputs": [
        {
          "output_type": "stream",
          "name": "stdout",
          "text": [
            "Найденный герой: Sniper\n",
            "Tips & Tactics[]\n",
            "General[]\n",
            "     Stutter stepping between attack animations allows Sniper to land more hits on a moving target.  \n",
            "Sniper can be played either in the safe lane with a support, as a solo mid, or as a soft support.\n",
            "Sniper's purpose in fights is mostly to right click and attack enemies without being disabled or killed first.\n",
            "Due to his extreme vulnerability, positioning is the most important part of playing Sniper.\n",
            "Because of this, Sniper is easy to play, but hard to master.\n",
            "Map awareness is very important for Sniper players, who should always mentally keep track of enemy positions in order to avoid being ganked.\n",
            "Sniper players must know how to stutter step, moving small distances between attack animations in order to be mobile and land as many hits as possible. This is more important in the early game when Sniper's attack speed is slower.\n",
            "Sniper must avoid being initiated on because an initiation and followup combination usually kills him before he can do anything.\n",
            "To avoid this, stay far behind your team when you suspect a fight will soon break out.\n",
            "Heroes that can jump to the backline, such as  Riki or  Phantom Assassin, will cause significant problems for Sniper.\n",
            "Because of his range and fast projectile speed, Sniper should be able to out last-hit and out deny most lane opponents.\n",
            "Sniper requires significant farm and a good early game in order to be effective. It is best to play safe early on and not risk being shut down by the other team.\n",
            "Sniper almost always buys Power Treads. Due to Sniper's high Mana-Cost spammable skills, you will run out of mana very quickly, so be sure to Tread Switch (Switching your Power Treads to Intelligence before using your spells, then switching back).\n",
            "Support[]\n",
            "Support Sniper focuses on Sniper's respectable magic damage and his slows.\n",
            "Generally, you will not be right clicking as much as carry sniper, although his right clicks can be used to pick off fleeing enemies.\n",
            " Tranquil Boots is a good support item on Sniper. Due to it requiring a wind lace, it provides a lot more movement speed and allows Sniper to sustain his health between ganks.\n",
            " Aghanim's Scepter a crucial item on support sniper, as it enables him to disable enemies and fire his assassinate quicker.\n",
            "Since you are a support, you will still need to build support item if your team needs them. Items like  Glimmer Cape,  Force Staff,  Lotus Orb are needed to support your team.  Aghanim's Shard and  Aether Lens can be considered too.\n",
            " Glimmer Cape is a good item if you find that you or your team are being focused down by magic damage. It also allows Sniper or his allies to escape from bad situations.\n",
            " Force Staff can definitely be considered on Sniper. Generally, it's a good item against heroes like  Riki or if you find that you just can't escape from the enemies.\n",
            " Ghost Scepter is a good item if you find that you are being focused down by physical damage carries. Later builds into Ethereal Blade.\n",
            " Ethereal Blade is a good nuking item to augment Assassinate. It also provides much needed Mana Regeneration, along with Spell Amplification and the ability to save you or your allies from physical damage.\n",
            " Aether Lens allows you to keep your distance even more, and the additional Mana and slight Mana Regeneration offsets Sniper's high Mana-Cost skills.\n",
            "One of the advantages of this build is that in the super super late game, you can transition into being a carry.\n",
            "Abilities[]\n",
            " Shrapnel[]\n",
            "Shrapnel is mostly a utility ability, but one should not underestimate the damage it can do.\n",
            "Shrapnel gives vision. Use it as a scouting ability, such as over high ground or the Roshan Pit.\n",
            "Shrapnel gives vision to scout runes.\n",
            "Shrapnel over trees is useful for finding juking enemies.\n",
            "Shrapnel over choke points is useful for revealing enemies before they get too close.\n",
            "Shrapnel can reveal a distant fleeing enemy and allow Sniper to lock onto him with Assassinate.\n",
            "Use Shrapnel in front of Sniper when running away in order to slow the pursuing enemy.\n",
            "Use Shrapnel in front of the enemy to slow them down while chasing.\n",
            "Use Shrapnel on top of Sniper when fighting a melee ganker in order to deal as much damage as possible.\n",
            "Use Shrapnel in combination with a teammate's AoE ability, such as  Enigma's  Black Hole.\n",
            "Use Shrapnel over friendly buildings to deter enemies from attacking them.\n",
            "Use Shrapnel to push out a creep wave much further away from you without putting you in danger.\n",
            "Use Shrapnel's damage and slow in combination with Headshot's damage and slow to do tremendous amount of damage in lane.\n",
            "Use Shrapnel in the mid lane to push out the wave and then farm the nearby easy camp or stack camps for yourself.\n",
            "Use Shrapnel over a group of fighting creeps before retreating to gain a bit of extra gold.\n",
            " Headshot[]\n",
            "Headshot is good for harassing enemies in lane, especially against melee heroes.\n",
            "Use the slow and knockback from Headshot to stutter step closer to the enemy.\n",
            "When chasing an enemy with your team, landing a single Headshot may be enough to slow the target down sufficiently.\n",
            "This means that Sniper can stop and take a chance on a single attack if it appears that he will not be able to catch up over a long distance.\n",
            " Take Aim[]\n",
            "One level of Take Aim is typically enough for the laning phase since it allows Sniper to outrange almost all enemies.\n",
            "If Sniper is taking heavy harassment, or playing in the dangerous solo lane, invest more points in Take Aim in order to score last hits.\n",
            "Take Aim will also allow Sniper to harass enemy laners, but his focus should be primarily on farming.\n",
            "With level 2 or higher, Sniper will outrange towers, allowing him to attack them without being hit.\n",
            "With his long range, it can be tempting to instantly attack the enemy initiator in team fights, but it is nearly always better to retrain Sniper's attacks on a carry or backline support.\n",
            "Take Aim gives Sniper the luxury of easily switching targets in team fights. Analyze situations with a cool head and use this to your advantage.\n",
            " Assassinate[]\n",
            "     Shrapnel gives vision through the fog of war, allowing Sniper to lock onto distant enemies with Assassinate.  \n",
            "Assassinate is a quite powerful ability in all stages of the game.\n",
            "Use Assassinate to pick off fleeing targets.\n",
            "If Sniper is too far away to join a fight, use Assassinate to help allies kill a target. The extra damage is especially helpful for gankers on your team.\n",
            "Enemies will hear the sound of Sniper's gun cocking (Link▶️) when they are first targeted by Assassinate or see its status debuff on their HUD.\n",
            "This will give them a chance to time the attack, and disjoint the projectile.\n",
            "Heroes that can easily disjoint the projectile include  Puck,  Storm Spirit, and  Outworld Destroyer.\n",
            "It is also possible to disjoint the projectile using  Smoke of Deceit.\n",
            "To ensure a hit, use Assassinate on heroes that do not have disjoint mechanisms or heroes that have already expended them.\n",
            "Since Assassinate grants full vision of an enemy during the cast time, it can be used to counter an enemy attempting to juke or go invisible. The few extra seconds of vision often makes the difference.\n",
            "It can also be used on an enemy to see if there are enemies further behind them.\n",
            "Try to use Assassinate from a safe position, as Sniper is vulnerable and can be easily killed or interrupted during its cast animation.\n",
            "Do not waste Assassinate on a target that is certain to die, such as a low health enemy who has little chance of escaping your team.\n",
            "Assassinate mini-stuns on impact, and can be used to interrupt teleporting or channeling enemies. This is one of few times when Assassinate should be used at close range.\n",
            "Assassinate can be used to harass, degrade, and intimidate enemies in a lane or before an engagement. This is especially effective on supports with low health.\n",
            "In the late game, Assassinate should only be used when Sniper cannot reach the target, as his attacks will do more damage.\n",
            "During a team fight, do not waste time trying to Assassinate a low-value target if there are more dangerous, higher value targets attacking your team.\n",
            "For example, Sniper should focus attacks on a carry  Juggernaut instead of spending several seconds trying to Assassinate a dying  Rubick.\n",
            "Due to its low cooldown, a retreating Sniper can often turn around and use Assassinate again, even after he has disengaged from the team fight.\n",
            "Be mindful of it's mana cost and switch your  Power Treads to Intelligence before using the spell then switch back.\n",
            " Concussive Grenade[]\n",
            "Concussive Grenade knocks you and the enemy back, however, it also disarms enemies, despite the tooltip not mentioning it.\n",
            "Use it to knock yourself or enemies back to highgrounds.\n",
            "Use it more or less like you'd use hurricane pike, however, it is not a replacement for Hurricane Pike.\n",
            "The ability does minor damage to enemies, which is enough to disable a  Blink Dagger.\n",
            "Be mindful that when running away from enemies, Sniper will have to turn to use concussive shot to knock himself further back. This time to turn might be enough for enemies to get on top of you and kill you, which is why this item is not a replacement for Hurricane Pike.\n",
            "Items[]\n",
            "Starting items:\n",
            "Contents\n",
            "\n",
            "1 Gameplay\n",
            "2 Ability Builds\n",
            "3 Talents\n",
            "4 Tips & Tactics\n",
            "\n",
            "4.1 General\n",
            "4.2 Support\n",
            "4.3 Abilities\n",
            "\n",
            "4.3.1  Shrapnel\n",
            "4.3.2  Headshot\n",
            "4.3.3  Take Aim\n",
            "4.3.4  Assassinate\n",
            "4.3.5  Concussive Grenade\n",
            "\n",
            "\n",
            "5 Items\n",
            "\n",
            "\n",
            "Gameplay[]\n",
            "\n",
            "\n",
            "Playstyle\n",
            "\n",
            "\n",
            " Sniper is a very long ranged carry, designed to decimate enemies from the backline. He is able to scout ahead with his  Shrapnel, and pick off targets from extreme distances with  Assassinate. In the late game, a well-farmed Sniper can destroy almost any enemy before they have a chance to get close or do much in a team fight. However, Sniper is also one of the most defenseless heroes in the game, and can be easily killed if caught alone.\n",
            "\n",
            "\n",
            "Pros\n",
            "\n",
            "Cons\n",
            "Ability Builds[]\n",
            "\n",
            "Generic Sniper\n",
            "1234567891011121314151617182025\n",
            "\n",
            "\n",
            "Talents[]\n",
            "\n",
            "Hero Talents\n",
            "+6  Shrapnel Charges25+100 Attack Range\n",
            "+25  Shrapnel DPS20+25  Headshot Knockback Distance\n",
            "-15%  Shrapnel Movement Slow15+30 Attack Speed\n",
            "+30  Headshot Damage10+1s  Take Aim Duration\n"
          ]
        }
      ]
    }
  ],
  "metadata": {
    "colab": {
      "provenance": []
    },
    "kernelspec": {
      "display_name": "Python 3",
      "name": "python3"
    },
    "language_info": {
      "name": "python"
    }
  },
  "nbformat": 4,
  "nbformat_minor": 0
}